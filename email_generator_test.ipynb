{
 "cells": [
  {
   "cell_type": "code",
   "execution_count": 29,
   "metadata": {},
   "outputs": [],
   "source": [
    "from langchain_groq import ChatGroq\n",
    "import chromadb\n",
    "from langchain_community.document_loaders import WebBaseLoader\n",
    "from langchain_core.prompts import PromptTemplate\n",
    "from pprint import pprint\n",
    "import uuid"
   ]
  },
  {
   "cell_type": "code",
   "execution_count": 9,
   "metadata": {},
   "outputs": [],
   "source": [
    "chat = ChatGroq(temperature=0,\n",
    "                 model_name=\"llama-3.1-70b-versatile\" ,\n",
    "                 max_retries=2,\n",
    "                   groq_api_key=\"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\")"
   ]
  },
  {
   "cell_type": "code",
   "execution_count": 5,
   "metadata": {},
   "outputs": [
    {
     "data": {
      "text/plain": [
       "Document(metadata={'source': 'https://jobs.nike.com/job/R-38652', 'title': 'Apply for Lead Machine Learning Engineer – AI/ML (Remote Work Option)', 'description': 'Nike - Data & Analytics - Beaverton, Oregon, United States', 'language': 'en'}, page_content=\"Apply for Lead Machine Learning Engineer – AI/ML (Remote Work Option)\\n\\nSearch JobsSkip navigationSearch JobsNIKE, INC. JOBSContract JobsJoin The Talent CommunityLife @ NikeOverviewBenefitsBrandsOverviewJordanConverseTeamsOverviewAdministrative SupportAdvanced InnovationAir Manufacturing InnovationAviationCommunicationsCustomer ServiceDesignDigitalFacilitiesFinance & AccountingGovernment & Public AffairsHuman ResourcesInsights & AnalyticsLegalManufacturing & EngineeringMarketingMerchandisingPlanningPrivacyProcurementProduct Creation, Development & ManagementRetail CorporateRetail StoresSalesSocial & Community ImpactSports MarketingStrategic PlanningSupply Chain, Distribution & LogisticsSustainabilityTechnologyLocationsOverviewNike WHQNike New York HQEHQ: Hilversum, The NetherlandsELC: Laakdal, BelgiumGreater China HQDiversity, Equity & InclusionOverviewMilitary InclusionDisability InclusionIndigenous InclusionInternshipsData & AnalyticsLead Machine Learning Engineer – AI/ML (Remote Work Option)Beaverton, OregonBecome a Part of the NIKE, Inc. Team\\nNIKE, Inc. does more than outfit the world’s best athletes. It is a place to explore potential, obliterate boundaries and push out the edges of what can be. The company looks for people who can grow, think, dream and create. Its culture thrives by embracing diversity and rewarding imagination. The brand seeks achievers, leaders and visionaries. At NIKE, Inc. it’s about each person bringing skills and passion to a challenging and constantly evolving game.Open to remote work except in South Dakota, Vermont and West Virginia.The annual base salary for this position ranges from $119,400.00 in our lowest geographic market to $267,500.00 in our highest geographic market. Actual salary will vary based on a candidate's location, qualifications, skills and experience.Information about benefits can be found here.\\xa0WHO ARE WE LOOKING FORWe seek passionate engineers to join our team.\\xa0 As a Lead Machine Learning Engineer, you will develop robust advanced analytics and machine learning solutions that have a direct impact on the business.\\xa0 You should have experience in Python; a strong background in algorithms and data structures; hands-on AWS experience; as well as experience in database technology (e.g. Postgres, Redis) and data processing technology (e.g. EMR).\\xa0 You should also have a demonstrable history of team leadership and value delivery, and be comfortable working in an agile product model.\\xa0 As a Lead ML Engineer, you will be expected to own projects end-to-end - from conception to operationalization, demonstrating an understanding of the full software development lifecycle.\\xa0 As a result, you will be expected to provide technical vision and guidance to your teammates; therefore, strong communication skills are critical in this role.\\xa0WHAT WILL YOU WORK ONIf this is you, you’ll be working with the Artificial Intelligence and Machine Learning (AI/ML) team at Nike.\\xa0 With teammates in Portland, Boston, and Poland, you’ll be joining a global organization working to solve machine learning problems at scale.\\xa0 You’ll be designing and implementing scalable applications that leverage prediction models and optimization programs to deliver data driven decisions that result in immense business impact.\\xa0 You’ll also contribute to core advanced analytics and machine learning platforms and tools to enable both prediction and optimization model development.\\xa0 You thrive when surrounded by talented colleagues and aim to never stop learning. We are looking for candidates who enjoy a collaborative and academic environment where we develop and share new skills, mentor, and contribute knowledge and software back to the analytics and engineering communities both within Nike and at-large.We value and nurture our culture by seeking to always be collaborative, intellectually curious, fun, open, and diverse.WHO WILL YOU WORK WITHIn this role, you’ll be working closely with the rest of our global team, along with commercial and consumer analytics, and enterprise architecture teams.WHAT YOU BRING Bachelor’s degree in Computer Science, or combination of relevant education, experience5+ years of professional experience in software engineering, data engineering, machine learning, or related fieldStrong analytical mindset and experience leading others in problem solvingExperience working in a team to write robust, maintainable, and extendable code in Python; containerized in Docker, and automated with CI/CDExpertise with agile development and test driven developmentExpertise with data structures, data modeling and software architectureExperience with complex data sets, ETL pipelines, SQL, and general data engineeringExpertise in MLOps, API development, or mathematical optimization are highly desirableExpertise with cloud architecture and technologies, in particular Amazon Web ServicesExpertise with technologies like Spark, Kubernetes, Docker, Jenkins, Databricks, Terraform is also highly desirableEffective communication skills (with team members, the business, and in code)Experience providing technical leadership within a team and mentorship to othersWe are committed to fostering a diverse and inclusive environment for all employees and job applicants. We offer a number of accommodations to complete our interview process including screen readers, sign language interpreters, accessible and single location for in-person interviews, closed captioning, and other reasonable modifications as needed. If you discover, as you navigate our application process, that you need assistance or an accommodation due to a disability, please complete the Candidate Accommodation Request Form.NIKE, Inc. is a growth company that looks for team members to grow with it. Nike offers a generous total rewards package, casual work environment, a diverse and inclusive culture, and an electric atmosphere for professional development. No matter the location, or the role, every Nike employee shares one galvanizing mission: To bring inspiration and innovation to every athlete* in the world.NIKE, Inc. is committed to employing a diverse workforce. Qualified applicants will receive consideration without regard to race, color, religion, sex, national origin, age, sexual orientation, gender identity, gender expression, veteran status, or disability.How We HireAt NIKE, Inc. we promise to provide a premium, inclusive, compelling and authentic candidate experience. Delivering on this promise means we allow you to be at your best — and to do that, you need to understand how the hiring process works. Transparency is key.\\r\\n\\r\\n* This overview explains our hiring process for corporate roles. Note there may be different hiring steps involved for non-corporate roles.Start nowBenefitsWhether it’s transportation or financial health, we continually invest in our employees to help them achieve greatness — inside and outside of work. All who work here should be able to realize their full potential.Employee Assistance ProgramEmployee Stock Purchase Plan (ESPP)HolidaysMedical PlanPaid Time Off (PTO)Product DiscountsSabbaticalsLearn moreGIFT CARDSPROMOTIONSFIND A STORESIGN UP FOR EMAILBECOME A MEMBERNIKE JOURNALSEND US FEEDBACKGET HELPGET HELPOrder StatusShipping and DeliveryReturnsPayment OptionsGift Cards BalanceContact UsABOUT NIKEABOUT NIKENewsCareersInvestorsPurposeSustainabilityUnited States© 2024 Nike, Inc. All Rights ReservedGuidesNike AdaptNike Air MaxNike FlyleatherNike ReactSpace HippieNike AirNike FlyEaseNike Free Nike VaporflyNike Air Force 1 Nike FlyknitNike JoyrideNike ZoomXTerms of SaleTerms of UseNike Privacy PolicyYour Privacy ChoicesCA Supply Chain Act\")"
      ]
     },
     "execution_count": 5,
     "metadata": {},
     "output_type": "execute_result"
    }
   ],
   "source": [
    "loader = WebBaseLoader(\"https://jobs.nike.com/job/R-38652\")\n",
    "docs = loader.load()\n",
    "docs[0]"
   ]
  },
  {
   "cell_type": "code",
   "execution_count": 7,
   "metadata": {},
   "outputs": [
    {
     "data": {
      "text/plain": [
       "\"Apply for Lead Machine Learning Engineer – AI/ML (Remote Work Option)\\n\\nSearch JobsSkip navigationSearch JobsNIKE, INC. JOBSContract JobsJoin The Talent CommunityLife @ NikeOverviewBenefitsBrandsOverviewJordanConverseTeamsOverviewAdministrative SupportAdvanced InnovationAir Manufacturing InnovationAviationCommunicationsCustomer ServiceDesignDigitalFacilitiesFinance & AccountingGovernment & Public AffairsHuman ResourcesInsights & AnalyticsLegalManufacturing & EngineeringMarketingMerchandisingPlanningPrivacyProcurementProduct Creation, Development & ManagementRetail CorporateRetail StoresSalesSocial & Community ImpactSports MarketingStrategic PlanningSupply Chain, Distribution & LogisticsSustainabilityTechnologyLocationsOverviewNike WHQNike New York HQEHQ: Hilversum, The NetherlandsELC: Laakdal, BelgiumGreater China HQDiversity, Equity & InclusionOverviewMilitary InclusionDisability InclusionIndigenous InclusionInternshipsData & AnalyticsLead Machine Learning Engineer – AI/ML (Remote Work Option)Beaverton, OregonBecome a Part of the NIKE, Inc. Team\\nNIKE, Inc. does more than outfit the world’s best athletes. It is a place to explore potential, obliterate boundaries and push out the edges of what can be. The company looks for people who can grow, think, dream and create. Its culture thrives by embracing diversity and rewarding imagination. The brand seeks achievers, leaders and visionaries. At NIKE, Inc. it’s about each person bringing skills and passion to a challenging and constantly evolving game.Open to remote work except in South Dakota, Vermont and West Virginia.The annual base salary for this position ranges from $119,400.00 in our lowest geographic market to $267,500.00 in our highest geographic market. Actual salary will vary based on a candidate's location, qualifications, skills and experience.Information about benefits can be found here.\\xa0WHO ARE WE LOOKING FORWe seek passionate engineers to join our team.\\xa0 As a Lead Machine Learning Engineer, you will develop robust advanced analytics and machine learning solutions that have a direct impact on the business.\\xa0 You should have experience in Python; a strong background in algorithms and data structures; hands-on AWS experience; as well as experience in database technology (e.g. Postgres, Redis) and data processing technology (e.g. EMR).\\xa0 You should also have a demonstrable history of team leadership and value delivery, and be comfortable working in an agile product model.\\xa0 As a Lead ML Engineer, you will be expected to own projects end-to-end - from conception to operationalization, demonstrating an understanding of the full software development lifecycle.\\xa0 As a result, you will be expected to provide technical vision and guidance to your teammates; therefore, strong communication skills are critical in this role.\\xa0WHAT WILL YOU WORK ONIf this is you, you’ll be working with the Artificial Intelligence and Machine Learning (AI/ML) team at Nike.\\xa0 With teammates in Portland, Boston, and Poland, you’ll be joining a global organization working to solve machine learning problems at scale.\\xa0 You’ll be designing and implementing scalable applications that leverage prediction models and optimization programs to deliver data driven decisions that result in immense business impact.\\xa0 You’ll also contribute to core advanced analytics and machine learning platforms and tools to enable both prediction and optimization model development.\\xa0 You thrive when surrounded by talented colleagues and aim to never stop learning. We are looking for candidates who enjoy a collaborative and academic environment where we develop and share new skills, mentor, and contribute knowledge and software back to the analytics and engineering communities both within Nike and at-large.We value and nurture our culture by seeking to always be collaborative, intellectually curious, fun, open, and diverse.WHO WILL YOU WORK WITHIn this role, you’ll be working closely with the rest of our global team, along with commercial and consumer analytics, and enterprise architecture teams.WHAT YOU BRING Bachelor’s degree in Computer Science, or combination of relevant education, experience5+ years of professional experience in software engineering, data engineering, machine learning, or related fieldStrong analytical mindset and experience leading others in problem solvingExperience working in a team to write robust, maintainable, and extendable code in Python; containerized in Docker, and automated with CI/CDExpertise with agile development and test driven developmentExpertise with data structures, data modeling and software architectureExperience with complex data sets, ETL pipelines, SQL, and general data engineeringExpertise in MLOps, API development, or mathematical optimization are highly desirableExpertise with cloud architecture and technologies, in particular Amazon Web ServicesExpertise with technologies like Spark, Kubernetes, Docker, Jenkins, Databricks, Terraform is also highly desirableEffective communication skills (with team members, the business, and in code)Experience providing technical leadership within a team and mentorship to othersWe are committed to fostering a diverse and inclusive environment for all employees and job applicants. We offer a number of accommodations to complete our interview process including screen readers, sign language interpreters, accessible and single location for in-person interviews, closed captioning, and other reasonable modifications as needed. If you discover, as you navigate our application process, that you need assistance or an accommodation due to a disability, please complete the Candidate Accommodation Request Form.NIKE, Inc. is a growth company that looks for team members to grow with it. Nike offers a generous total rewards package, casual work environment, a diverse and inclusive culture, and an electric atmosphere for professional development. No matter the location, or the role, every Nike employee shares one galvanizing mission: To bring inspiration and innovation to every athlete* in the world.NIKE, Inc. is committed to employing a diverse workforce. Qualified applicants will receive consideration without regard to race, color, religion, sex, national origin, age, sexual orientation, gender identity, gender expression, veteran status, or disability.How We HireAt NIKE, Inc. we promise to provide a premium, inclusive, compelling and authentic candidate experience. Delivering on this promise means we allow you to be at your best — and to do that, you need to understand how the hiring process works. Transparency is key.\\r\\n\\r\\n* This overview explains our hiring process for corporate roles. Note there may be different hiring steps involved for non-corporate roles.Start nowBenefitsWhether it’s transportation or financial health, we continually invest in our employees to help them achieve greatness — inside and outside of work. All who work here should be able to realize their full potential.Employee Assistance ProgramEmployee Stock Purchase Plan (ESPP)HolidaysMedical PlanPaid Time Off (PTO)Product DiscountsSabbaticalsLearn moreGIFT CARDSPROMOTIONSFIND A STORESIGN UP FOR EMAILBECOME A MEMBERNIKE JOURNALSEND US FEEDBACKGET HELPGET HELPOrder StatusShipping and DeliveryReturnsPayment OptionsGift Cards BalanceContact UsABOUT NIKEABOUT NIKENewsCareersInvestorsPurposeSustainabilityUnited States© 2024 Nike, Inc. All Rights ReservedGuidesNike AdaptNike Air MaxNike FlyleatherNike ReactSpace HippieNike AirNike FlyEaseNike Free Nike VaporflyNike Air Force 1 Nike FlyknitNike JoyrideNike ZoomXTerms of SaleTerms of UseNike Privacy PolicyYour Privacy ChoicesCA Supply Chain Act\""
      ]
     },
     "execution_count": 7,
     "metadata": {},
     "output_type": "execute_result"
    }
   ],
   "source": [
    "docs[0].page_content"
   ]
  },
  {
   "cell_type": "code",
   "execution_count": null,
   "metadata": {},
   "outputs": [],
   "source": [
    "prompt_template = PromptTemplate.from_template(\n",
    "    \"\"\"### SCRAPED TEXT FROM WEBSITE:\n",
    "    {page_content}\n",
    "    ### INSTRUCTION:\n",
    "    The scraped text is from a career page of a website.\n",
    "    Your job is to extract the job postings and return them in JSON format containing the following keys:\n",
    "    `role`, `experience`, `skills` and `description`.\n",
    "    Only return the valid JSON\n",
    "    ### VALID JSON (NO PREAMBLE)\n",
    "    \"\"\",\n",
    ")\n",
    "\n",
    "chain = prompt_template | chat"
   ]
  },
  {
   "cell_type": "code",
   "execution_count": 16,
   "metadata": {},
   "outputs": [
    {
     "name": "stdout",
     "output_type": "stream",
     "text": [
      "('```json\\n'\n",
      " '{\\n'\n",
      " '  \"role\": \"Lead Machine Learning Engineer – AI/ML\",\\n'\n",
      " '  \"experience\": \"5+ years of professional experience in software '\n",
      " 'engineering, data engineering, machine learning, or related field\",\\n'\n",
      " '  \"skills\": [\\n'\n",
      " '    \"Python\",\\n'\n",
      " '    \"algorithms and data structures\",\\n'\n",
      " '    \"AWS\",\\n'\n",
      " '    \"database technology (e.g. Postgres, Redis)\",\\n'\n",
      " '    \"data processing technology (e.g. EMR)\",\\n'\n",
      " '    \"agile development\",\\n'\n",
      " '    \"test driven development\",\\n'\n",
      " '    \"MLOps\",\\n'\n",
      " '    \"API development\",\\n'\n",
      " '    \"mathematical optimization\",\\n'\n",
      " '    \"cloud architecture\",\\n'\n",
      " '    \"Amazon Web Services\",\\n'\n",
      " '    \"Spark\",\\n'\n",
      " '    \"Kubernetes\",\\n'\n",
      " '    \"Docker\",\\n'\n",
      " '    \"Jenkins\",\\n'\n",
      " '    \"Databricks\",\\n'\n",
      " '    \"Terraform\"\\n'\n",
      " '  ],\\n'\n",
      " '  \"description\": \"Develop robust advanced analytics and machine learning '\n",
      " 'solutions that have a direct impact on the business. Own projects end-to-end '\n",
      " '- from conception to operationalization, demonstrating an understanding of '\n",
      " 'the full software development lifecycle. Provide technical vision and '\n",
      " 'guidance to teammates.\"\\n'\n",
      " '}\\n'\n",
      " '```')\n"
     ]
    }
   ],
   "source": [
    "res = chain.invoke({'page_content': docs[0].page_content})\n",
    "pprint(res.content)"
   ]
  },
  {
   "cell_type": "code",
   "execution_count": 17,
   "metadata": {},
   "outputs": [
    {
     "data": {
      "text/plain": [
       "{'role': 'Lead Machine Learning Engineer – AI/ML',\n",
       " 'experience': '5+ years of professional experience in software engineering, data engineering, machine learning, or related field',\n",
       " 'skills': ['Python',\n",
       "  'algorithms and data structures',\n",
       "  'AWS',\n",
       "  'database technology (e.g. Postgres, Redis)',\n",
       "  'data processing technology (e.g. EMR)',\n",
       "  'agile development',\n",
       "  'test driven development',\n",
       "  'MLOps',\n",
       "  'API development',\n",
       "  'mathematical optimization',\n",
       "  'cloud architecture',\n",
       "  'Amazon Web Services',\n",
       "  'Spark',\n",
       "  'Kubernetes',\n",
       "  'Docker',\n",
       "  'Jenkins',\n",
       "  'Databricks',\n",
       "  'Terraform'],\n",
       " 'description': 'Develop robust advanced analytics and machine learning solutions that have a direct impact on the business. Own projects end-to-end - from conception to operationalization, demonstrating an understanding of the full software development lifecycle. Provide technical vision and guidance to teammates.'}"
      ]
     },
     "execution_count": 17,
     "metadata": {},
     "output_type": "execute_result"
    }
   ],
   "source": [
    "from langchain_core.output_parsers import JsonOutputParser\n",
    "json_parser = JsonOutputParser()\n",
    "json_res = json_parser.parse(res.content)\n",
    "json_res"
   ]
  },
  {
   "cell_type": "code",
   "execution_count": 20,
   "metadata": {},
   "outputs": [
    {
     "data": {
      "text/html": [
       "<div>\n",
       "<style scoped>\n",
       "    .dataframe tbody tr th:only-of-type {\n",
       "        vertical-align: middle;\n",
       "    }\n",
       "\n",
       "    .dataframe tbody tr th {\n",
       "        vertical-align: top;\n",
       "    }\n",
       "\n",
       "    .dataframe thead th {\n",
       "        text-align: right;\n",
       "    }\n",
       "</style>\n",
       "<table border=\"1\" class=\"dataframe\">\n",
       "  <thead>\n",
       "    <tr style=\"text-align: right;\">\n",
       "      <th></th>\n",
       "      <th>Techstack</th>\n",
       "      <th>Links</th>\n",
       "    </tr>\n",
       "  </thead>\n",
       "  <tbody>\n",
       "    <tr>\n",
       "      <th>0</th>\n",
       "      <td>React, Node.js, MongoDB</td>\n",
       "      <td>https://example.com/react-portfolio</td>\n",
       "    </tr>\n",
       "    <tr>\n",
       "      <th>1</th>\n",
       "      <td>Angular,.NET, SQL Server</td>\n",
       "      <td>https://example.com/angular-portfolio</td>\n",
       "    </tr>\n",
       "    <tr>\n",
       "      <th>2</th>\n",
       "      <td>Vue.js, Ruby on Rails, PostgreSQL</td>\n",
       "      <td>https://example.com/vue-portfolio</td>\n",
       "    </tr>\n",
       "    <tr>\n",
       "      <th>3</th>\n",
       "      <td>Python, Django, MySQL</td>\n",
       "      <td>https://example.com/python-portfolio</td>\n",
       "    </tr>\n",
       "    <tr>\n",
       "      <th>4</th>\n",
       "      <td>Java, Spring Boot, Oracle</td>\n",
       "      <td>https://example.com/java-portfolio</td>\n",
       "    </tr>\n",
       "    <tr>\n",
       "      <th>5</th>\n",
       "      <td>Flutter, Firebase, GraphQL</td>\n",
       "      <td>https://example.com/flutter-portfolio</td>\n",
       "    </tr>\n",
       "    <tr>\n",
       "      <th>6</th>\n",
       "      <td>WordPress, PHP, MySQL</td>\n",
       "      <td>https://example.com/wordpress-portfolio</td>\n",
       "    </tr>\n",
       "    <tr>\n",
       "      <th>7</th>\n",
       "      <td>Magento, PHP, MySQL</td>\n",
       "      <td>https://example.com/magento-portfolio</td>\n",
       "    </tr>\n",
       "    <tr>\n",
       "      <th>8</th>\n",
       "      <td>React Native, Node.js, MongoDB</td>\n",
       "      <td>https://example.com/react-native-portfolio</td>\n",
       "    </tr>\n",
       "    <tr>\n",
       "      <th>9</th>\n",
       "      <td>iOS, Swift, Core Data</td>\n",
       "      <td>https://example.com/ios-portfolio</td>\n",
       "    </tr>\n",
       "    <tr>\n",
       "      <th>10</th>\n",
       "      <td>Android, Java, Room Persistence</td>\n",
       "      <td>https://example.com/android-portfolio</td>\n",
       "    </tr>\n",
       "    <tr>\n",
       "      <th>11</th>\n",
       "      <td>Kotlin, Android, Firebase</td>\n",
       "      <td>https://example.com/kotlin-android-portfolio</td>\n",
       "    </tr>\n",
       "    <tr>\n",
       "      <th>12</th>\n",
       "      <td>Android TV, Kotlin, Android NDK</td>\n",
       "      <td>https://example.com/android-tv-portfolio</td>\n",
       "    </tr>\n",
       "    <tr>\n",
       "      <th>13</th>\n",
       "      <td>iOS, Swift, ARKit</td>\n",
       "      <td>https://example.com/ios-ar-portfolio</td>\n",
       "    </tr>\n",
       "    <tr>\n",
       "      <th>14</th>\n",
       "      <td>Cross-platform, Xamarin, Azure</td>\n",
       "      <td>https://example.com/xamarin-portfolio</td>\n",
       "    </tr>\n",
       "    <tr>\n",
       "      <th>15</th>\n",
       "      <td>Backend, Kotlin, Spring Boot</td>\n",
       "      <td>https://example.com/kotlin-backend-portfolio</td>\n",
       "    </tr>\n",
       "    <tr>\n",
       "      <th>16</th>\n",
       "      <td>Frontend, TypeScript, Angular</td>\n",
       "      <td>https://example.com/typescript-frontend-portfolio</td>\n",
       "    </tr>\n",
       "    <tr>\n",
       "      <th>17</th>\n",
       "      <td>Full-stack, JavaScript, Express.js</td>\n",
       "      <td>https://example.com/full-stack-js-portfolio</td>\n",
       "    </tr>\n",
       "    <tr>\n",
       "      <th>18</th>\n",
       "      <td>Machine Learning, Python, TensorFlow</td>\n",
       "      <td>https://example.com/ml-python-portfolio</td>\n",
       "    </tr>\n",
       "    <tr>\n",
       "      <th>19</th>\n",
       "      <td>DevOps, Jenkins, Docker</td>\n",
       "      <td>https://example.com/devops-portfolio</td>\n",
       "    </tr>\n",
       "  </tbody>\n",
       "</table>\n",
       "</div>"
      ],
      "text/plain": [
       "                               Techstack  \\\n",
       "0                React, Node.js, MongoDB   \n",
       "1               Angular,.NET, SQL Server   \n",
       "2      Vue.js, Ruby on Rails, PostgreSQL   \n",
       "3                  Python, Django, MySQL   \n",
       "4              Java, Spring Boot, Oracle   \n",
       "5             Flutter, Firebase, GraphQL   \n",
       "6                  WordPress, PHP, MySQL   \n",
       "7                    Magento, PHP, MySQL   \n",
       "8         React Native, Node.js, MongoDB   \n",
       "9                  iOS, Swift, Core Data   \n",
       "10       Android, Java, Room Persistence   \n",
       "11             Kotlin, Android, Firebase   \n",
       "12       Android TV, Kotlin, Android NDK   \n",
       "13                     iOS, Swift, ARKit   \n",
       "14        Cross-platform, Xamarin, Azure   \n",
       "15          Backend, Kotlin, Spring Boot   \n",
       "16         Frontend, TypeScript, Angular   \n",
       "17    Full-stack, JavaScript, Express.js   \n",
       "18  Machine Learning, Python, TensorFlow   \n",
       "19               DevOps, Jenkins, Docker   \n",
       "\n",
       "                                                Links  \n",
       "0                 https://example.com/react-portfolio  \n",
       "1               https://example.com/angular-portfolio  \n",
       "2                   https://example.com/vue-portfolio  \n",
       "3                https://example.com/python-portfolio  \n",
       "4                  https://example.com/java-portfolio  \n",
       "5               https://example.com/flutter-portfolio  \n",
       "6             https://example.com/wordpress-portfolio  \n",
       "7               https://example.com/magento-portfolio  \n",
       "8          https://example.com/react-native-portfolio  \n",
       "9                   https://example.com/ios-portfolio  \n",
       "10              https://example.com/android-portfolio  \n",
       "11       https://example.com/kotlin-android-portfolio  \n",
       "12           https://example.com/android-tv-portfolio  \n",
       "13               https://example.com/ios-ar-portfolio  \n",
       "14              https://example.com/xamarin-portfolio  \n",
       "15       https://example.com/kotlin-backend-portfolio  \n",
       "16  https://example.com/typescript-frontend-portfolio  \n",
       "17        https://example.com/full-stack-js-portfolio  \n",
       "18            https://example.com/ml-python-portfolio  \n",
       "19               https://example.com/devops-portfolio  "
      ]
     },
     "execution_count": 20,
     "metadata": {},
     "output_type": "execute_result"
    }
   ],
   "source": [
    "import pandas as pd\n",
    "\n",
    "df = pd.read_csv('my_portfolio.csv')\n",
    "df"
   ]
  },
  {
   "cell_type": "code",
   "execution_count": 31,
   "metadata": {},
   "outputs": [],
   "source": [
    "# create the vector database using chromadb\n",
    "chroma_client = chromadb.PersistentClient()\n",
    "collection = chroma_client.get_or_create_collection (name=\"my_collection\")"
   ]
  },
  {
   "cell_type": "code",
   "execution_count": 32,
   "metadata": {},
   "outputs": [
    {
     "data": {
      "text/plain": [
       "{'ids': ['0661ea2a-b3f6-476d-8841-7beb1e179c06',\n",
       "  '89babf1d-f246-4750-8820-9e6aa46fa036',\n",
       "  '73c78bf2-b951-45f2-b325-06830ebf1fc2',\n",
       "  'b4c1fe87-9acf-4f30-bb2d-71de8e4e9703',\n",
       "  'd29f2d2d-e643-49d9-a726-6f23dbdadf06',\n",
       "  '026eb85a-0f89-4b8b-b960-7b56c68dba43',\n",
       "  '8ad8dfb6-348a-4401-8a00-184e1962b731',\n",
       "  '6ced8530-e971-48c8-bd93-615fdee38572',\n",
       "  'b0596764-9319-4a81-a003-243c25f0c149',\n",
       "  'fe6020e1-1b87-46e2-acaf-4f98d292244f',\n",
       "  'a4597f23-a370-47cb-bb4f-f7613a0ee8d5',\n",
       "  '06f2761b-ee44-4d06-a8f3-b3d2c4b3826f',\n",
       "  'ebc7e7d1-a638-40a0-9bbd-316bddd2573d',\n",
       "  'c757c2a3-f8fd-49ef-90ed-c7b908702f26',\n",
       "  'eaedabcf-24a1-4a9f-b3b5-dc95e61dcb7c',\n",
       "  '8eaa1554-ca12-451f-80a8-222ab0a4a89a',\n",
       "  '1f2f8e1f-bded-4c7d-bffc-647c0480d5c2',\n",
       "  '3ebd33a9-9e39-4e98-8bfd-8bf4ce09aa6c',\n",
       "  '4036c4f1-e151-4991-ba3c-8f5b99cc72fd',\n",
       "  '917991d0-b3af-4137-b5f4-09dbea870a7d'],\n",
       " 'embeddings': None,\n",
       " 'documents': ['React, Node.js, MongoDB',\n",
       "  'Angular,.NET, SQL Server',\n",
       "  'Vue.js, Ruby on Rails, PostgreSQL',\n",
       "  'Python, Django, MySQL',\n",
       "  'Java, Spring Boot, Oracle',\n",
       "  'Flutter, Firebase, GraphQL',\n",
       "  'WordPress, PHP, MySQL',\n",
       "  'Magento, PHP, MySQL',\n",
       "  'React Native, Node.js, MongoDB',\n",
       "  'iOS, Swift, Core Data',\n",
       "  'Android, Java, Room Persistence',\n",
       "  'Kotlin, Android, Firebase',\n",
       "  'Android TV, Kotlin, Android NDK',\n",
       "  'iOS, Swift, ARKit',\n",
       "  'Cross-platform, Xamarin, Azure',\n",
       "  'Backend, Kotlin, Spring Boot',\n",
       "  'Frontend, TypeScript, Angular',\n",
       "  'Full-stack, JavaScript, Express.js',\n",
       "  'Machine Learning, Python, TensorFlow',\n",
       "  'DevOps, Jenkins, Docker'],\n",
       " 'uris': None,\n",
       " 'data': None,\n",
       " 'metadatas': [{'links': 'https://example.com/react-portfolio'},\n",
       "  {'links': 'https://example.com/angular-portfolio'},\n",
       "  {'links': 'https://example.com/vue-portfolio'},\n",
       "  {'links': 'https://example.com/python-portfolio'},\n",
       "  {'links': 'https://example.com/java-portfolio'},\n",
       "  {'links': 'https://example.com/flutter-portfolio'},\n",
       "  {'links': 'https://example.com/wordpress-portfolio'},\n",
       "  {'links': 'https://example.com/magento-portfolio'},\n",
       "  {'links': 'https://example.com/react-native-portfolio'},\n",
       "  {'links': 'https://example.com/ios-portfolio'},\n",
       "  {'links': 'https://example.com/android-portfolio'},\n",
       "  {'links': 'https://example.com/kotlin-android-portfolio'},\n",
       "  {'links': 'https://example.com/android-tv-portfolio'},\n",
       "  {'links': 'https://example.com/ios-ar-portfolio'},\n",
       "  {'links': 'https://example.com/xamarin-portfolio'},\n",
       "  {'links': 'https://example.com/kotlin-backend-portfolio'},\n",
       "  {'links': 'https://example.com/typescript-frontend-portfolio'},\n",
       "  {'links': 'https://example.com/full-stack-js-portfolio'},\n",
       "  {'links': 'https://example.com/ml-python-portfolio'},\n",
       "  {'links': 'https://example.com/devops-portfolio'}],\n",
       " 'included': [<IncludeEnum.documents: 'documents'>,\n",
       "  <IncludeEnum.metadatas: 'metadatas'>]}"
      ]
     },
     "execution_count": 32,
     "metadata": {},
     "output_type": "execute_result"
    }
   ],
   "source": [
    "for i,row in df.iterrows():\n",
    "    collection.add(\n",
    "        documents=row['Techstack'],\n",
    "        ids=[str(uuid.uuid4())],\n",
    "        metadatas={'links': row['Links']}\n",
    "    )\n",
    "\n",
    "collection.get()"
   ]
  },
  {
   "cell_type": "code",
   "execution_count": 42,
   "metadata": {},
   "outputs": [
    {
     "name": "stdout",
     "output_type": "stream",
     "text": [
      "[[{'links': 'https://example.com/ml-python-portfolio'},\n",
      "  {'links': 'https://example.com/python-portfolio'}],\n",
      " [{'links': 'https://example.com/react-portfolio'},\n",
      "  {'links': 'https://example.com/react-native-portfolio'}]]\n"
     ]
    }
   ],
   "source": [
    "links = collection.query(query_texts=[\"Experience in python\", \"Experience in react\"], n_results=2).get('metadatas', [])\n",
    "pprint(links)"
   ]
  },
  {
   "cell_type": "code",
   "execution_count": 46,
   "metadata": {},
   "outputs": [
    {
     "data": {
      "text/plain": [
       "{'role': 'Lead Machine Learning Engineer – AI/ML',\n",
       " 'experience': '5+ years of professional experience in software engineering, data engineering, machine learning, or related field',\n",
       " 'skills': ['Python',\n",
       "  'algorithms and data structures',\n",
       "  'AWS',\n",
       "  'database technology (e.g. Postgres, Redis)',\n",
       "  'data processing technology (e.g. EMR)',\n",
       "  'agile development',\n",
       "  'test driven development',\n",
       "  'MLOps',\n",
       "  'API development',\n",
       "  'mathematical optimization',\n",
       "  'cloud architecture',\n",
       "  'Amazon Web Services',\n",
       "  'Spark',\n",
       "  'Kubernetes',\n",
       "  'Docker',\n",
       "  'Jenkins',\n",
       "  'Databricks',\n",
       "  'Terraform'],\n",
       " 'description': 'Develop robust advanced analytics and machine learning solutions that have a direct impact on the business. Own projects end-to-end - from conception to operationalization, demonstrating an understanding of the full software development lifecycle. Provide technical vision and guidance to teammates.'}"
      ]
     },
     "execution_count": 46,
     "metadata": {},
     "output_type": "execute_result"
    }
   ],
   "source": [
    "job = json_res\n",
    "job"
   ]
  },
  {
   "cell_type": "code",
   "execution_count": 47,
   "metadata": {},
   "outputs": [
    {
     "name": "stdout",
     "output_type": "stream",
     "text": [
      "[[{'links': 'https://example.com/ml-python-portfolio'},\n",
      "  {'links': 'https://example.com/python-portfolio'}],\n",
      " [{'links': 'https://example.com/ml-python-portfolio'},\n",
      "  {'links': 'https://example.com/magento-portfolio'}],\n",
      " [{'links': 'https://example.com/ios-ar-portfolio'},\n",
      "  {'links': 'https://example.com/wordpress-portfolio'}],\n",
      " [{'links': 'https://example.com/magento-portfolio'},\n",
      "  {'links': 'https://example.com/vue-portfolio'}],\n",
      " [{'links': 'https://example.com/ml-python-portfolio'},\n",
      "  {'links': 'https://example.com/magento-portfolio'}],\n",
      " [{'links': 'https://example.com/ios-ar-portfolio'},\n",
      "  {'links': 'https://example.com/devops-portfolio'}],\n",
      " [{'links': 'https://example.com/devops-portfolio'},\n",
      "  {'links': 'https://example.com/ml-python-portfolio'}],\n",
      " [{'links': 'https://example.com/devops-portfolio'},\n",
      "  {'links': 'https://example.com/ml-python-portfolio'}],\n",
      " [{'links': 'https://example.com/flutter-portfolio'},\n",
      "  {'links': 'https://example.com/ios-ar-portfolio'}],\n",
      " [{'links': 'https://example.com/ml-python-portfolio'},\n",
      "  {'links': 'https://example.com/wordpress-portfolio'}],\n",
      " [{'links': 'https://example.com/xamarin-portfolio'},\n",
      "  {'links': 'https://example.com/ios-portfolio'}],\n",
      " [{'links': 'https://example.com/wordpress-portfolio'},\n",
      "  {'links': 'https://example.com/magento-portfolio'}],\n",
      " [{'links': 'https://example.com/kotlin-android-portfolio'},\n",
      "  {'links': 'https://example.com/kotlin-backend-portfolio'}],\n",
      " [{'links': 'https://example.com/devops-portfolio'},\n",
      "  {'links': 'https://example.com/kotlin-backend-portfolio'}],\n",
      " [{'links': 'https://example.com/devops-portfolio'},\n",
      "  {'links': 'https://example.com/ios-ar-portfolio'}],\n",
      " [{'links': 'https://example.com/devops-portfolio'},\n",
      "  {'links': 'https://example.com/kotlin-backend-portfolio'}],\n",
      " [{'links': 'https://example.com/flutter-portfolio'},\n",
      "  {'links': 'https://example.com/kotlin-android-portfolio'}],\n",
      " [{'links': 'https://example.com/devops-portfolio'},\n",
      "  {'links': 'https://example.com/kotlin-backend-portfolio'}]]\n"
     ]
    }
   ],
   "source": [
    "links = collection.query(query_texts=job['skills'], n_results=2).get('metadatas', [])\n",
    "pprint(links)"
   ]
  },
  {
   "cell_type": "code",
   "execution_count": 48,
   "metadata": {},
   "outputs": [
    {
     "name": "stdout",
     "output_type": "stream",
     "text": [
      "Subject: Expert Machine Learning Solutions for Your Business\n",
      "\n",
      "Dear Hiring Manager,\n",
      "\n",
      "I came across the job description for a Lead Machine Learning Engineer – AI/ML, and I was impressed by the scope of the role. As a Business Development Executive at AtliQ, I believe our team can provide the necessary expertise to develop robust advanced analytics and machine learning solutions that can have a direct impact on your business.\n",
      "\n",
      "At AtliQ, we have a proven track record of empowering enterprises with tailored solutions, fostering scalability, process optimization, cost reduction, and heightened overall efficiency. Our team is well-versed in the skills you've listed, including Python, algorithms and data structures, AWS, database technology, data processing technology, agile development, test-driven development, MLOps, API development, mathematical optimization, cloud architecture, and more.\n",
      "\n",
      "We've worked on numerous projects that showcase our capabilities in machine learning and Python. Some of our notable projects include:\n",
      "- https://example.com/ml-python-portfolio\n",
      "- https://example.com/python-portfolio\n",
      "- https://example.com/devops-portfolio\n",
      "\n",
      "Our expertise in machine learning, data engineering, and software engineering, combined with our experience in AWS, Spark, Kubernetes, Docker, Jenkins, Databricks, and Terraform, makes us an ideal partner for your business. We can provide technical vision and guidance to your teammates and help you develop and operationalize machine learning solutions that drive business results.\n",
      "\n",
      "I'd love to schedule a call to discuss how AtliQ can support your business goals and provide a customized solution that meets your needs. Please let me know if you're interested, and we can schedule a call at your convenience.\n",
      "\n",
      "Best regards,\n",
      "Mehul\n",
      "Business Development Executive\n",
      "AtliQ\n"
     ]
    }
   ],
   "source": [
    "prompt_email = PromptTemplate.from_template(\n",
    "        \"\"\"\n",
    "        ### JOB DESCRIPTION:\n",
    "        {job_description}\n",
    "        \n",
    "        ### INSTRUCTION:\n",
    "        You are Mehul, a business development executive at AtliQ. AtliQ is an AI & Software Consulting company dedicated to facilitating\n",
    "        the seamless integration of business processes through automated tools. \n",
    "        Over our experience, we have empowered numerous enterprises with tailored solutions, fostering scalability, \n",
    "        process optimization, cost reduction, and heightened overall efficiency. \n",
    "        Your job is to write a cold email to the client regarding the job mentioned above describing the capability of AtliQ \n",
    "        in fulfilling their needs.\n",
    "        Also add the most relevant ones from the following links to showcase Atliq's portfolio: {link_list}\n",
    "        Remember you are Mehul, BDE at AtliQ. \n",
    "        Do not provide a preamble.\n",
    "        ### EMAIL (NO PREAMBLE):\n",
    "        \n",
    "        \"\"\"\n",
    "        )\n",
    "\n",
    "chain_email = prompt_email | chat\n",
    "res = chain_email.invoke({\"job_description\": str(job), \"link_list\": links})\n",
    "print(res.content)"
   ]
  },
  {
   "cell_type": "code",
   "execution_count": null,
   "metadata": {},
   "outputs": [],
   "source": []
  }
 ],
 "metadata": {
  "kernelspec": {
   "display_name": "cold-email",
   "language": "python",
   "name": "python3"
  },
  "language_info": {
   "codemirror_mode": {
    "name": "ipython",
    "version": 3
   },
   "file_extension": ".py",
   "mimetype": "text/x-python",
   "name": "python",
   "nbconvert_exporter": "python",
   "pygments_lexer": "ipython3",
   "version": "3.12.2"
  }
 },
 "nbformat": 4,
 "nbformat_minor": 2
}
